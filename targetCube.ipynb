{
 "cells": [
  {
   "cell_type": "code",
   "execution_count": 94,
   "metadata": {},
   "outputs": [
    {
     "name": "stdout",
     "output_type": "stream",
     "text": [
      "          W  W  W                   \n",
      "          W  W  W                   \n",
      "          W  W  W                   \n",
      " O  O  O  G  G  G  R  R  R  B  B  B \n",
      " O  O  O  G  G  G  R  R  R  B  B  B \n",
      " O  O  O  G  G  G  R  R  R  B  B  B \n",
      "          Y  Y  Y                   \n",
      "          Y  Y  Y                   \n",
      "          Y  Y  Y                   \n",
      "\n"
     ]
    }
   ],
   "source": [
    "import heapq\n",
    "import copy\n",
    "from typing import List\n",
    "import magiccube\n",
    "from magiccube.cube_base import Color, Face\n",
    "\n",
    "targetFace = [Color.W, Color.W, Color.W, Color.G, Color.G, Color.G, Color.R, Color.R, Color.R]\n",
    "\n",
    "# 3x3x3 Cube\n",
    "cube = magiccube.Cube(3,\"WWWWWWWWWOOOOOOOOOGGGGGGGGGRRRRRRRRRBBBBBBBBBYYYYYYYYY\")\n",
    "print(cube)\n",
    "\n",
    "def achievedTarget(cube:magiccube.cube, targetFace:str) -> bool:\n",
    "    for faceName in Face:\n",
    "        face = cube.get_face_flat(faceName)\n",
    "        for i in range(len(face)):\n",
    "            if (face[i] != targetFace[i]):\n",
    "                break\n",
    "            if (i == len(face) - 1):\n",
    "                print(\"Solved on face: \" + str(faceName))\n",
    "                print(face)\n",
    "                return True\n",
    "    return False\n",
    "\n",
    "def heuristicFunc(cube:magiccube.cube) -> int:\n",
    "    return 0\n",
    "\n",
    "class Node:\n",
    "    def __init__(self, dist:int, moves:List[str]):\n",
    "        self.dist = dist\n",
    "        self.moves = moves\n",
    "    def __lt__(self, other):\n",
    "        return self.dist < other.dist\n",
    "    \n",
    "def reverseMove(move:str) -> str:\n",
    "    if (len(move) > 1):\n",
    "        return move[0]\n",
    "    return move + \"\\'\"\n",
    "\n",
    "def solveTarget(cube:magiccube.cube, targetFace:str) -> List[str]:\n",
    "    pq = []\n",
    "    disc = set()\n",
    "    heapq.heappush(pq, Node(0, []))\n",
    "\n",
    "    layer = 0\n",
    "    while (len(pq) > 0):\n",
    "        curNode = heapq.heappop(pq)\n",
    "        if (curNode.dist != layer):\n",
    "            layer = curNode.dist\n",
    "            print(curNode.dist)\n",
    "        for move in curNode.moves:\n",
    "            cube.rotate(move)\n",
    "        print(curNode.moves)\n",
    "        print(cube)\n",
    "        if (achievedTarget(cube, targetFace)):\n",
    "            return curNode.moves\n",
    "        for move in reversed(curNode.moves):\n",
    "            cube.rotate(reverseMove(move))\n",
    "        for move in {\"L\", \"R\", \"D\", \"U\", \"B\", \"F\", \"L\\'\", \"R\\'\", \"D\\'\", \"U\\'\", \"B\\'\", \"F\\'\"}:\n",
    "            heapq.heappush(pq, Node(curNode.dist + 1, curNode.moves + [move]))\n",
    "    return []\n",
    "\n",
    "#print(solveTarget(cube, targetFace))\n",
    "\n"
   ]
  }
 ],
 "metadata": {
  "kernelspec": {
   "display_name": "Python 3",
   "language": "python",
   "name": "python3"
  },
  "language_info": {
   "codemirror_mode": {
    "name": "ipython",
    "version": 3
   },
   "file_extension": ".py",
   "mimetype": "text/x-python",
   "name": "python",
   "nbconvert_exporter": "python",
   "pygments_lexer": "ipython3",
   "version": "3.8.10"
  },
  "orig_nbformat": 4
 },
 "nbformat": 4,
 "nbformat_minor": 2
}
